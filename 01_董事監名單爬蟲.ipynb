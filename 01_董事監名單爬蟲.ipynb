{
 "cells": [
  {
   "cell_type": "code",
   "execution_count": 1,
   "metadata": {
    "collapsed": true
   },
   "outputs": [],
   "source": [
    "import time\n",
    "import pandas as pd\n",
    "from bs4 import BeautifulSoup\n",
    "from selenium import webdriver\n",
    "from selenium.webdriver.common.keys import Keys\n",
    "from tqdm import tqdm_notebook"
   ]
  },
  {
   "cell_type": "code",
   "execution_count": 4,
   "metadata": {
    "collapsed": true
   },
   "outputs": [],
   "source": [
    "# df_comp = pd.read_excel('上司公司名單.xlsx')\n",
    "df_comp = pd.read_excel('上櫃公司名單.xlsx')\n",
    "comp = list(df_comp.itertuples(index=False, name=None))"
   ]
  },
  {
   "cell_type": "code",
   "execution_count": 6,
   "metadata": {
    "collapsed": false
   },
   "outputs": [
    {
     "data": {
      "text/plain": [
       "766"
      ]
     },
     "execution_count": 6,
     "metadata": {},
     "output_type": "execute_result"
    }
   ],
   "source": [
    "len(comp)"
   ]
  },
  {
   "cell_type": "code",
   "execution_count": 7,
   "metadata": {
    "collapsed": false
   },
   "outputs": [
    {
     "name": "stdout",
     "output_type": "stream",
     "text": [
      "\n"
     ]
    }
   ],
   "source": [
    "error_id = []\n",
    "driver = webdriver.Chrome(executable_path='/Users/andy/anaconda/selenium/chromedriver')\n",
    "df_new = pd.DataFrame(columns=['公司名稱','公司代碼','市場類別','產業類別','職稱','姓名(或代表人姓名)','所代表法人姓名'])\n",
    "for i in tqdm_notebook(range(len(comp))):\n",
    "    try:\n",
    "        driver.get(\"http://mops.twse.com.tw/mops/web/t100sb07\")\n",
    "        driver.find_element_by_xpath('//*[@id=\"co_id\"]').click()\n",
    "        driver.find_element_by_xpath('//*[@id=\"co_id\"]').send_keys(int(comp[i][0]))\n",
    "        driver.find_element_by_xpath('//*[@id=\"search_bar1\"]/div/input').send_keys(Keys.ENTER)\n",
    "        time.sleep(1)\n",
    "        res = driver.page_source\n",
    "\n",
    "        df = pd.read_html(res, attrs={'class': 'hasBorder'})[1]\n",
    "        a = driver.find_element_by_xpath('//*[@id=\"table01\"]/center/table[5]/tbody/tr/td').text\n",
    "        df.columns = df.iloc[0]\n",
    "        df = df.reindex(df.index.drop(0))\n",
    "        df['公司代碼'] = comp[i][0]\n",
    "        df['公司名稱'] = comp[i][1]\n",
    "        df['市場類別'] = comp[i][2]\n",
    "        df['產業類別'] = comp[i][3]\n",
    "        df = df[['公司名稱','公司代碼','市場類別','產業類別','職稱','姓名(或代表人姓名)','所代表法人姓名']]\n",
    "        df_new = pd.concat([df_new, df], join='outer',ignore_index=True)\n",
    "    except:\n",
    "        error_id.append(comp[i][0])\n",
    "        time.sleep(15)\n",
    "driver.close()"
   ]
  },
  {
   "cell_type": "code",
   "execution_count": 8,
   "metadata": {
    "collapsed": false,
    "scrolled": false
   },
   "outputs": [
    {
     "data": {
      "text/plain": [
       "6570"
      ]
     },
     "execution_count": 8,
     "metadata": {},
     "output_type": "execute_result"
    }
   ],
   "source": [
    "len(df_new)"
   ]
  },
  {
   "cell_type": "code",
   "execution_count": 9,
   "metadata": {
    "collapsed": false
   },
   "outputs": [
    {
     "data": {
      "text/plain": [
       "70"
      ]
     },
     "execution_count": 9,
     "metadata": {},
     "output_type": "execute_result"
    }
   ],
   "source": [
    "len(error_id)"
   ]
  },
  {
   "cell_type": "code",
   "execution_count": 10,
   "metadata": {
    "collapsed": false
   },
   "outputs": [],
   "source": [
    "comp_error = []\n",
    "for i in comp:\n",
    "    if i[0] in error_id:\n",
    "        comp_error.append(i)"
   ]
  },
  {
   "cell_type": "code",
   "execution_count": 11,
   "metadata": {
    "collapsed": false
   },
   "outputs": [
    {
     "data": {
      "text/plain": [
       "70"
      ]
     },
     "execution_count": 11,
     "metadata": {},
     "output_type": "execute_result"
    }
   ],
   "source": [
    "len(comp_error)"
   ]
  },
  {
   "cell_type": "markdown",
   "metadata": {},
   "source": [
    "### 二次爬蟲"
   ]
  },
  {
   "cell_type": "code",
   "execution_count": 13,
   "metadata": {
    "collapsed": false
   },
   "outputs": [
    {
     "name": "stdout",
     "output_type": "stream",
     "text": [
      "\n"
     ]
    }
   ],
   "source": [
    "error_id2 = []\n",
    "driver = webdriver.Chrome(executable_path='/Users/andy/anaconda/selenium/chromedriver')\n",
    "for i in tqdm_notebook(range(len(comp_error))):\n",
    "    try:\n",
    "        driver.get(\"http://mops.twse.com.tw/mops/web/t100sb07\")\n",
    "        driver.find_element_by_xpath('//*[@id=\"co_id\"]').click()\n",
    "        driver.find_element_by_xpath('//*[@id=\"co_id\"]').send_keys(int(comp_error[i][0]))\n",
    "        driver.find_element_by_xpath('//*[@id=\"search_bar1\"]/div/input').send_keys(Keys.ENTER)\n",
    "        time.sleep(1)\n",
    "        res = driver.page_source\n",
    "\n",
    "        df = pd.read_html(res, attrs={'class': 'hasBorder'})[1]\n",
    "        a = driver.find_element_by_xpath('//*[@id=\"table01\"]/center/table[5]/tbody/tr/td').text\n",
    "        df.columns = df.iloc[0]\n",
    "        df = df.reindex(df.index.drop(0))\n",
    "        df['公司代碼'] = comp_error[i][0]\n",
    "        df['公司名稱'] = comp_error[i][1]\n",
    "        df['市場類別'] = comp_error[i][2]\n",
    "        df['產業類別'] = comp_error[i][3]\n",
    "        df = df[['公司名稱','公司代碼','市場類別','產業類別','職稱','姓名(或代表人姓名)','所代表法人姓名']]\n",
    "        df_new = pd.concat([df_new, df], join='outer',ignore_index=True)\n",
    "    except:\n",
    "        error_id2.append(comp[i][0])\n",
    "        time.sleep(15)\n",
    "driver.close()"
   ]
  },
  {
   "cell_type": "code",
   "execution_count": 14,
   "metadata": {
    "collapsed": false
   },
   "outputs": [
    {
     "data": {
      "text/plain": [
       "7208"
      ]
     },
     "execution_count": 14,
     "metadata": {},
     "output_type": "execute_result"
    }
   ],
   "source": [
    "len(df_new)"
   ]
  },
  {
   "cell_type": "code",
   "execution_count": 15,
   "metadata": {
    "collapsed": false
   },
   "outputs": [
    {
     "data": {
      "text/plain": [
       "[1795, 1796, 1799, 1815, 2596, 2924, 2928]"
      ]
     },
     "execution_count": 15,
     "metadata": {},
     "output_type": "execute_result"
    }
   ],
   "source": [
    "error_id2"
   ]
  },
  {
   "cell_type": "code",
   "execution_count": 16,
   "metadata": {
    "collapsed": true
   },
   "outputs": [],
   "source": [
    "comp_error2 = []\n",
    "for i in comp:\n",
    "    if i[0] in error_id2:\n",
    "        comp_error2.append(i)"
   ]
  },
  {
   "cell_type": "code",
   "execution_count": 17,
   "metadata": {
    "collapsed": false
   },
   "outputs": [
    {
     "data": {
      "text/plain": [
       "[(1795, '美時', '上櫃', '生技醫療業'),\n",
       " (1796, '金穎生技', '上櫃', '食品工業'),\n",
       " (1799, '易威', '上櫃', '生技醫療業'),\n",
       " (1815, '富喬', '上櫃', '電子零組件業'),\n",
       " (2596, '綠意', '上櫃', '建材營造業'),\n",
       " (2924, '東凌-KY', '上櫃', '貿易百貨業'),\n",
       " (2928, '紅馬-KY', '上櫃', '觀光事業')]"
      ]
     },
     "execution_count": 17,
     "metadata": {},
     "output_type": "execute_result"
    }
   ],
   "source": [
    "comp_error2"
   ]
  },
  {
   "cell_type": "markdown",
   "metadata": {},
   "source": [
    "### 三次爬蟲"
   ]
  },
  {
   "cell_type": "code",
   "execution_count": 18,
   "metadata": {
    "collapsed": false,
    "scrolled": false
   },
   "outputs": [
    {
     "name": "stdout",
     "output_type": "stream",
     "text": [
      "\n"
     ]
    }
   ],
   "source": [
    "error_id3 = []\n",
    "driver = webdriver.Chrome(executable_path='/Users/andy/anaconda/selenium/chromedriver')\n",
    "for i in tqdm_notebook(range(len(comp_error2))):\n",
    "    try:\n",
    "        driver.get(\"http://mops.twse.com.tw/mops/web/t100sb07\")\n",
    "        driver.find_element_by_xpath('//*[@id=\"co_id\"]').click()\n",
    "        driver.find_element_by_xpath('//*[@id=\"co_id\"]').send_keys(int(comp_error2[i][0]))\n",
    "        driver.find_element_by_xpath('//*[@id=\"search_bar1\"]/div/input').send_keys(Keys.ENTER)\n",
    "        time.sleep(1)\n",
    "        res = driver.page_source\n",
    "\n",
    "        df = pd.read_html(res, attrs={'class': 'hasBorder'})[1]\n",
    "        a = driver.find_element_by_xpath('//*[@id=\"table01\"]/center/table[5]/tbody/tr/td').text\n",
    "        df.columns = df.iloc[0]\n",
    "        df = df.reindex(df.index.drop(0))\n",
    "        df['公司代碼'] = comp_error2[i][0]\n",
    "        df['公司名稱'] = comp_error2[i][1]\n",
    "        df['市場類別'] = comp_error2[i][2]\n",
    "        df['產業類別'] = comp_error2[i][3]\n",
    "        df = df[['公司名稱','公司代碼','市場類別','產業類別','職稱','姓名(或代表人姓名)','所代表法人姓名']]\n",
    "        df_new = pd.concat([df_new, df], join='outer',ignore_index=True)\n",
    "    except:\n",
    "        error_id3.append(comp[i][0])\n",
    "        time.sleep(15)\n",
    "driver.close()"
   ]
  },
  {
   "cell_type": "code",
   "execution_count": 19,
   "metadata": {
    "collapsed": false
   },
   "outputs": [
    {
     "data": {
      "text/plain": [
       "7272"
      ]
     },
     "execution_count": 19,
     "metadata": {},
     "output_type": "execute_result"
    }
   ],
   "source": [
    "len(df_new)"
   ]
  },
  {
   "cell_type": "code",
   "execution_count": 20,
   "metadata": {
    "collapsed": false
   },
   "outputs": [
    {
     "data": {
      "text/plain": [
       "[]"
      ]
     },
     "execution_count": 20,
     "metadata": {},
     "output_type": "execute_result"
    }
   ],
   "source": [
    "error_id3"
   ]
  },
  {
   "cell_type": "code",
   "execution_count": 21,
   "metadata": {
    "collapsed": false,
    "scrolled": false
   },
   "outputs": [],
   "source": [
    "df_new = df_new.sort_values('公司代碼')\n",
    "df_new = df_new.reset_index(drop=True)"
   ]
  },
  {
   "cell_type": "code",
   "execution_count": 22,
   "metadata": {
    "collapsed": false,
    "scrolled": false
   },
   "outputs": [
    {
     "data": {
      "text/html": [
       "<div>\n",
       "<style scoped>\n",
       "    .dataframe tbody tr th:only-of-type {\n",
       "        vertical-align: middle;\n",
       "    }\n",
       "\n",
       "    .dataframe tbody tr th {\n",
       "        vertical-align: top;\n",
       "    }\n",
       "\n",
       "    .dataframe thead th {\n",
       "        text-align: right;\n",
       "    }\n",
       "</style>\n",
       "<table border=\"1\" class=\"dataframe\">\n",
       "  <thead>\n",
       "    <tr style=\"text-align: right;\">\n",
       "      <th></th>\n",
       "      <th>公司名稱</th>\n",
       "      <th>公司代碼</th>\n",
       "      <th>市場類別</th>\n",
       "      <th>產業類別</th>\n",
       "      <th>職稱</th>\n",
       "      <th>姓名(或代表人姓名)</th>\n",
       "      <th>所代表法人姓名</th>\n",
       "    </tr>\n",
       "  </thead>\n",
       "  <tbody>\n",
       "    <tr>\n",
       "      <th>0</th>\n",
       "      <td>茂生農經</td>\n",
       "      <td>1240</td>\n",
       "      <td>上櫃</td>\n",
       "      <td>農業科技業</td>\n",
       "      <td>董事長本人</td>\n",
       "      <td>黃強</td>\n",
       "      <td>NaN</td>\n",
       "    </tr>\n",
       "    <tr>\n",
       "      <th>1</th>\n",
       "      <td>茂生農經</td>\n",
       "      <td>1240</td>\n",
       "      <td>上櫃</td>\n",
       "      <td>農業科技業</td>\n",
       "      <td>獨立董事本人</td>\n",
       "      <td>韓千山</td>\n",
       "      <td>NaN</td>\n",
       "    </tr>\n",
       "    <tr>\n",
       "      <th>2</th>\n",
       "      <td>茂生農經</td>\n",
       "      <td>1240</td>\n",
       "      <td>上櫃</td>\n",
       "      <td>農業科技業</td>\n",
       "      <td>獨立董事本人</td>\n",
       "      <td>李允中</td>\n",
       "      <td>NaN</td>\n",
       "    </tr>\n",
       "    <tr>\n",
       "      <th>3</th>\n",
       "      <td>茂生農經</td>\n",
       "      <td>1240</td>\n",
       "      <td>上櫃</td>\n",
       "      <td>農業科技業</td>\n",
       "      <td>監察人本人</td>\n",
       "      <td>林豐章</td>\n",
       "      <td>NaN</td>\n",
       "    </tr>\n",
       "    <tr>\n",
       "      <th>4</th>\n",
       "      <td>茂生農經</td>\n",
       "      <td>1240</td>\n",
       "      <td>上櫃</td>\n",
       "      <td>農業科技業</td>\n",
       "      <td>監察人本人</td>\n",
       "      <td>徐鈺瑞</td>\n",
       "      <td>NaN</td>\n",
       "    </tr>\n",
       "  </tbody>\n",
       "</table>\n",
       "</div>"
      ],
      "text/plain": [
       "0  公司名稱  公司代碼 市場類別   產業類別      職稱 姓名(或代表人姓名) 所代表法人姓名\n",
       "0  茂生農經  1240   上櫃  農業科技業   董事長本人         黃強     NaN\n",
       "1  茂生農經  1240   上櫃  農業科技業  獨立董事本人        韓千山     NaN\n",
       "2  茂生農經  1240   上櫃  農業科技業  獨立董事本人        李允中     NaN\n",
       "3  茂生農經  1240   上櫃  農業科技業   監察人本人        林豐章     NaN\n",
       "4  茂生農經  1240   上櫃  農業科技業   監察人本人        徐鈺瑞     NaN"
      ]
     },
     "execution_count": 22,
     "metadata": {},
     "output_type": "execute_result"
    }
   ],
   "source": [
    "df_new.head()"
   ]
  },
  {
   "cell_type": "code",
   "execution_count": 23,
   "metadata": {
    "collapsed": false,
    "scrolled": false
   },
   "outputs": [],
   "source": [
    "# df_new.to_excel(\"董事監名單.xlsx\",index=False)\n",
    "df_new.to_excel(\"董事監名單_上櫃.xlsx\",index=False)"
   ]
  },
  {
   "cell_type": "code",
   "execution_count": null,
   "metadata": {
    "collapsed": true
   },
   "outputs": [],
   "source": []
  }
 ],
 "metadata": {
  "kernelspec": {
   "display_name": "Python 3",
   "language": "python",
   "name": "python3"
  },
  "language_info": {
   "codemirror_mode": {
    "name": "ipython",
    "version": 3
   },
   "file_extension": ".py",
   "mimetype": "text/x-python",
   "name": "python",
   "nbconvert_exporter": "python",
   "pygments_lexer": "ipython3",
   "version": "3.6.3"
  },
  "widgets": {
   "state": {
    "1509e591c8bd4f968d2ac5e85686fb3f": {
     "views": [
      {
       "cell_index": 15
      }
     ]
    },
    "62bf8042bc954339b68b95f7e1795831": {
     "views": [
      {
       "cell_index": 9
      }
     ]
    },
    "a05eeeb21d6345b5a4dfef81cc192c12": {
     "views": [
      {
       "cell_index": 3
      }
     ]
    }
   },
   "version": "1.2.0"
  }
 },
 "nbformat": 4,
 "nbformat_minor": 2
}
