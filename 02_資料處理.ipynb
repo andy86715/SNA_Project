{
 "cells": [
  {
   "cell_type": "code",
   "execution_count": 1,
   "metadata": {
    "collapsed": true
   },
   "outputs": [],
   "source": [
    "import pandas as pd"
   ]
  },
  {
   "cell_type": "markdown",
   "metadata": {},
   "source": [
    "### 董事監 data"
   ]
  },
  {
   "cell_type": "code",
   "execution_count": 5,
   "metadata": {
    "collapsed": true
   },
   "outputs": [],
   "source": [
    "df = pd.read_excel('董事監名單.xlsx')"
   ]
  },
  {
   "cell_type": "code",
   "execution_count": 6,
   "metadata": {
    "collapsed": false
   },
   "outputs": [
    {
     "data": {
      "text/html": [
       "<div>\n",
       "<style scoped>\n",
       "    .dataframe tbody tr th:only-of-type {\n",
       "        vertical-align: middle;\n",
       "    }\n",
       "\n",
       "    .dataframe tbody tr th {\n",
       "        vertical-align: top;\n",
       "    }\n",
       "\n",
       "    .dataframe thead th {\n",
       "        text-align: right;\n",
       "    }\n",
       "</style>\n",
       "<table border=\"1\" class=\"dataframe\">\n",
       "  <thead>\n",
       "    <tr style=\"text-align: right;\">\n",
       "      <th></th>\n",
       "      <th>公司名稱</th>\n",
       "      <th>公司代碼</th>\n",
       "      <th>市場類別</th>\n",
       "      <th>產業類別</th>\n",
       "      <th>職稱</th>\n",
       "      <th>姓名</th>\n",
       "      <th>所代表法人姓名</th>\n",
       "    </tr>\n",
       "  </thead>\n",
       "  <tbody>\n",
       "    <tr>\n",
       "      <th>0</th>\n",
       "      <td>台泥</td>\n",
       "      <td>1101</td>\n",
       "      <td>上市</td>\n",
       "      <td>水泥工業</td>\n",
       "      <td>董事長之法人代表人</td>\n",
       "      <td>張安平</td>\n",
       "      <td>嘉利實業股份有限公司</td>\n",
       "    </tr>\n",
       "    <tr>\n",
       "      <th>1</th>\n",
       "      <td>台泥</td>\n",
       "      <td>1101</td>\n",
       "      <td>上市</td>\n",
       "      <td>水泥工業</td>\n",
       "      <td>董事之法人代表人</td>\n",
       "      <td>余俊彥</td>\n",
       "      <td>中成開發投資股份有限公司</td>\n",
       "    </tr>\n",
       "    <tr>\n",
       "      <th>2</th>\n",
       "      <td>台泥</td>\n",
       "      <td>1101</td>\n",
       "      <td>上市</td>\n",
       "      <td>水泥工業</td>\n",
       "      <td>董事之法人代表人</td>\n",
       "      <td>辜公怡</td>\n",
       "      <td>泰和興業股份有限公司</td>\n",
       "    </tr>\n",
       "    <tr>\n",
       "      <th>3</th>\n",
       "      <td>台泥</td>\n",
       "      <td>1101</td>\n",
       "      <td>上市</td>\n",
       "      <td>水泥工業</td>\n",
       "      <td>董事之法人代表人</td>\n",
       "      <td>李鐘培</td>\n",
       "      <td>財團法人辜公亮文教基金會</td>\n",
       "    </tr>\n",
       "    <tr>\n",
       "      <th>4</th>\n",
       "      <td>台泥</td>\n",
       "      <td>1101</td>\n",
       "      <td>上市</td>\n",
       "      <td>水泥工業</td>\n",
       "      <td>董事之法人代表人</td>\n",
       "      <td>王伯元</td>\n",
       "      <td>富品投資股份有限公司</td>\n",
       "    </tr>\n",
       "  </tbody>\n",
       "</table>\n",
       "</div>"
      ],
      "text/plain": [
       "  公司名稱  公司代碼 市場類別  產業類別         職稱   姓名       所代表法人姓名\n",
       "0   台泥  1101   上市  水泥工業  董事長之法人代表人  張安平    嘉利實業股份有限公司\n",
       "1   台泥  1101   上市  水泥工業   董事之法人代表人  余俊彥  中成開發投資股份有限公司\n",
       "2   台泥  1101   上市  水泥工業   董事之法人代表人  辜公怡    泰和興業股份有限公司\n",
       "3   台泥  1101   上市  水泥工業   董事之法人代表人  李鐘培  財團法人辜公亮文教基金會\n",
       "4   台泥  1101   上市  水泥工業   董事之法人代表人  王伯元    富品投資股份有限公司"
      ]
     },
     "execution_count": 6,
     "metadata": {},
     "output_type": "execute_result"
    }
   ],
   "source": [
    "df.head()"
   ]
  },
  {
   "cell_type": "code",
   "execution_count": 7,
   "metadata": {
    "collapsed": false
   },
   "outputs": [
    {
     "data": {
      "text/plain": [
       "侯榮顯    11\n",
       "莊永順    11\n",
       "魏啟林    10\n",
       "王文淵    10\n",
       "許介立     9\n",
       "Name: 姓名, dtype: int64"
      ]
     },
     "execution_count": 7,
     "metadata": {},
     "output_type": "execute_result"
    }
   ],
   "source": [
    "df['姓名'].value_counts().head()"
   ]
  },
  {
   "cell_type": "code",
   "execution_count": 8,
   "metadata": {
    "collapsed": false
   },
   "outputs": [
    {
     "data": {
      "text/plain": [
       "財政部             54\n",
       "中國鋼鐵股份有限公司      42\n",
       "行政院國家發展基金管理會    35\n",
       "統一企業股份有限公司      28\n",
       "經濟部             26\n",
       "Name: 所代表法人姓名, dtype: int64"
      ]
     },
     "execution_count": 8,
     "metadata": {},
     "output_type": "execute_result"
    }
   ],
   "source": [
    "df['所代表法人姓名'].value_counts().head()"
   ]
  },
  {
   "cell_type": "markdown",
   "metadata": {},
   "source": [
    "### 遺失值處理"
   ]
  },
  {
   "cell_type": "code",
   "execution_count": 10,
   "metadata": {
    "collapsed": false
   },
   "outputs": [],
   "source": [
    "df['所代表法人姓名'] = df['所代表法人姓名'].fillna('無')\n",
    "df = df.dropna()\n",
    "df = df.reset_index(drop=True)"
   ]
  },
  {
   "cell_type": "code",
   "execution_count": 11,
   "metadata": {
    "collapsed": false
   },
   "outputs": [
    {
     "name": "stdout",
     "output_type": "stream",
     "text": [
      "<class 'pandas.core.frame.DataFrame'>\n",
      "RangeIndex: 16591 entries, 0 to 16590\n",
      "Data columns (total 7 columns):\n",
      "公司名稱       16591 non-null object\n",
      "公司代碼       16591 non-null int64\n",
      "市場類別       16591 non-null object\n",
      "產業類別       16591 non-null object\n",
      "職稱         16591 non-null object\n",
      "姓名         16591 non-null object\n",
      "所代表法人姓名    16591 non-null object\n",
      "dtypes: int64(1), object(6)\n",
      "memory usage: 907.4+ KB\n"
     ]
    }
   ],
   "source": [
    "df.info()"
   ]
  },
  {
   "cell_type": "code",
   "execution_count": 12,
   "metadata": {
    "collapsed": true
   },
   "outputs": [],
   "source": [
    "df.to_csv(\"董事監名單_clean.csv\",index=False)"
   ]
  },
  {
   "cell_type": "code",
   "execution_count": 13,
   "metadata": {
    "collapsed": true
   },
   "outputs": [],
   "source": [
    "df.to_excel(\"董事監名單_clean.xlsx\",index=False)"
   ]
  },
  {
   "cell_type": "markdown",
   "metadata": {
    "collapsed": true
   },
   "source": [
    "### 董事監 clean data"
   ]
  },
  {
   "cell_type": "code",
   "execution_count": 167,
   "metadata": {
    "collapsed": true
   },
   "outputs": [],
   "source": [
    "df = pd.read_excel('董事監名單_clean.xlsx')"
   ]
  },
  {
   "cell_type": "code",
   "execution_count": 4,
   "metadata": {
    "collapsed": false
   },
   "outputs": [
    {
     "data": {
      "text/html": [
       "<div>\n",
       "<style scoped>\n",
       "    .dataframe tbody tr th:only-of-type {\n",
       "        vertical-align: middle;\n",
       "    }\n",
       "\n",
       "    .dataframe tbody tr th {\n",
       "        vertical-align: top;\n",
       "    }\n",
       "\n",
       "    .dataframe thead th {\n",
       "        text-align: right;\n",
       "    }\n",
       "</style>\n",
       "<table border=\"1\" class=\"dataframe\">\n",
       "  <thead>\n",
       "    <tr style=\"text-align: right;\">\n",
       "      <th></th>\n",
       "      <th>公司名稱</th>\n",
       "      <th>公司代碼</th>\n",
       "      <th>市場類別</th>\n",
       "      <th>產業類別</th>\n",
       "      <th>職稱</th>\n",
       "      <th>姓名</th>\n",
       "      <th>所代表法人姓名</th>\n",
       "    </tr>\n",
       "  </thead>\n",
       "  <tbody>\n",
       "    <tr>\n",
       "      <th>0</th>\n",
       "      <td>台泥</td>\n",
       "      <td>1101</td>\n",
       "      <td>上市</td>\n",
       "      <td>水泥工業</td>\n",
       "      <td>董事長之法人代表人</td>\n",
       "      <td>張安平</td>\n",
       "      <td>嘉利實業股份有限公司</td>\n",
       "    </tr>\n",
       "    <tr>\n",
       "      <th>1</th>\n",
       "      <td>台泥</td>\n",
       "      <td>1101</td>\n",
       "      <td>上市</td>\n",
       "      <td>水泥工業</td>\n",
       "      <td>董事之法人代表人</td>\n",
       "      <td>余俊彥</td>\n",
       "      <td>中成開發投資股份有限公司</td>\n",
       "    </tr>\n",
       "  </tbody>\n",
       "</table>\n",
       "</div>"
      ],
      "text/plain": [
       "  公司名稱  公司代碼 市場類別  產業類別         職稱   姓名       所代表法人姓名\n",
       "0   台泥  1101   上市  水泥工業  董事長之法人代表人  張安平    嘉利實業股份有限公司\n",
       "1   台泥  1101   上市  水泥工業   董事之法人代表人  余俊彥  中成開發投資股份有限公司"
      ]
     },
     "execution_count": 4,
     "metadata": {},
     "output_type": "execute_result"
    }
   ],
   "source": [
    "df.head(2)"
   ]
  },
  {
   "cell_type": "code",
   "execution_count": 11,
   "metadata": {
    "collapsed": false,
    "scrolled": false
   },
   "outputs": [],
   "source": [
    "# pd.DataFrame(df['所代表法人姓名'].value_counts()).to_excel(\"所代表法人姓名.xlsx\")"
   ]
  },
  {
   "cell_type": "code",
   "execution_count": 4,
   "metadata": {
    "code_folding": [],
    "collapsed": false
   },
   "outputs": [
    {
     "name": "stdout",
     "output_type": "stream",
     "text": [
      "\n"
     ]
    }
   ],
   "source": [
    "# 爬google\n",
    "import time\n",
    "from bs4 import BeautifulSoup\n",
    "from selenium import webdriver\n",
    "from selenium.webdriver.common.keys import Keys\n",
    "from tqdm import tqdm_notebook\n",
    "com = []\n",
    "for i in df['所代表法人姓名'].value_counts().index:\n",
    "    com.append(i)\n",
    "com_ne, ID = [], []\n",
    "driver = webdriver.Chrome(executable_path='/Users/andy/anaconda/selenium/chromedriver')\n",
    "for name in tqdm_notebook(com[1961:]):\n",
    "    driver.get(\"https://www.google.com.tw/\")\n",
    "    driver.find_element_by_xpath('//*[@id=\"tsf\"]/div[2]/div/div[1]/div/div[1]/input').send_keys(name+' 股票')\n",
    "    driver.find_element_by_xpath('//*[@id=\"tsf\"]/div[2]/div/div[1]/div/div[1]/input').send_keys(Keys.ENTER)\n",
    "    try:\n",
    "        ID.append(driver.find_element_by_xpath('//*[@id=\"knowledge-finance-wholepage__entity-summary\"]/div/g-card-section/div/g-card-section/div[1]/span').text)\n",
    "        com_ne.append(name)\n",
    "        time.sleep(1)\n",
    "    except:\n",
    "        time.sleep(1)\n",
    "        pass\n",
    "pd.DataFrame(list(zip(com_ne, ID))).to_excel(\"轉換公司2.xlsx\", index=False)"
   ]
  },
  {
   "cell_type": "code",
   "execution_count": 171,
   "metadata": {
    "collapsed": false
   },
   "outputs": [
    {
     "data": {
      "text/html": [
       "<div>\n",
       "<style scoped>\n",
       "    .dataframe tbody tr th:only-of-type {\n",
       "        vertical-align: middle;\n",
       "    }\n",
       "\n",
       "    .dataframe tbody tr th {\n",
       "        vertical-align: top;\n",
       "    }\n",
       "\n",
       "    .dataframe thead th {\n",
       "        text-align: right;\n",
       "    }\n",
       "</style>\n",
       "<table border=\"1\" class=\"dataframe\">\n",
       "  <thead>\n",
       "    <tr style=\"text-align: right;\">\n",
       "      <th></th>\n",
       "      <th>公司名稱</th>\n",
       "      <th>公司代碼</th>\n",
       "      <th>市場類別</th>\n",
       "      <th>產業類別</th>\n",
       "      <th>職稱</th>\n",
       "      <th>姓名</th>\n",
       "      <th>所代表法人姓名</th>\n",
       "    </tr>\n",
       "  </thead>\n",
       "  <tbody>\n",
       "    <tr>\n",
       "      <th>2932</th>\n",
       "      <td>國際中橡</td>\n",
       "      <td>2104</td>\n",
       "      <td>上市</td>\n",
       "      <td>橡膠工業</td>\n",
       "      <td>獨立董事本人</td>\n",
       "      <td>池慶康</td>\n",
       "      <td>無</td>\n",
       "    </tr>\n",
       "    <tr>\n",
       "      <th>2933</th>\n",
       "      <td>國際中橡</td>\n",
       "      <td>2104</td>\n",
       "      <td>上市</td>\n",
       "      <td>橡膠工業</td>\n",
       "      <td>董事之法人代表人</td>\n",
       "      <td>辜公愷</td>\n",
       "      <td>富品投資股份有限公司</td>\n",
       "    </tr>\n",
       "  </tbody>\n",
       "</table>\n",
       "</div>"
      ],
      "text/plain": [
       "      公司名稱  公司代碼 市場類別  產業類別        職稱   姓名     所代表法人姓名\n",
       "2932  國際中橡  2104   上市  橡膠工業    獨立董事本人  池慶康           無\n",
       "2933  國際中橡  2104   上市  橡膠工業  董事之法人代表人  辜公愷  富品投資股份有限公司"
      ]
     },
     "execution_count": 171,
     "metadata": {},
     "output_type": "execute_result"
    }
   ],
   "source": [
    "df[df['公司代碼']==2104].head(2)"
   ]
  },
  {
   "cell_type": "code",
   "execution_count": 33,
   "metadata": {
    "collapsed": true
   },
   "outputs": [],
   "source": [
    "df2 = pd.read_excel('轉換公司.xlsx')"
   ]
  },
  {
   "cell_type": "code",
   "execution_count": 40,
   "metadata": {
    "collapsed": false
   },
   "outputs": [],
   "source": [
    "df2['num'] = df2[1].str.split(':').str[1]"
   ]
  },
  {
   "cell_type": "code",
   "execution_count": 153,
   "metadata": {
    "collapsed": false
   },
   "outputs": [],
   "source": [
    "df2['aaa'] = df2[1].str.split(':').str[0]"
   ]
  },
  {
   "cell_type": "code",
   "execution_count": 154,
   "metadata": {
    "collapsed": false
   },
   "outputs": [],
   "source": [
    "a,b = [],[]\n",
    "for i in range(len(df2['num'])):\n",
    "    if df2['aaa'][i] == 'TPE':\n",
    "        try:\n",
    "            a.append(df[df['公司代碼']==int(df2['num'][i][1:5])].head(1)['公司名稱'].values)\n",
    "            b.append(df2[0][i])\n",
    "        except:\n",
    "            pass"
   ]
  },
  {
   "cell_type": "code",
   "execution_count": 157,
   "metadata": {
    "collapsed": false
   },
   "outputs": [],
   "source": [
    "c = []\n",
    "for i in a:\n",
    "    for k in i:\n",
    "        c.append(k)"
   ]
  },
  {
   "cell_type": "code",
   "execution_count": 160,
   "metadata": {
    "collapsed": false
   },
   "outputs": [],
   "source": [
    "new = list(zip(b,c))"
   ]
  },
  {
   "cell_type": "code",
   "execution_count": 168,
   "metadata": {
    "collapsed": true
   },
   "outputs": [],
   "source": [
    "for i in new:\n",
    "    df['所代表法人姓名'] = df['所代表法人姓名'].replace(i[0],i[1])"
   ]
  },
  {
   "cell_type": "code",
   "execution_count": 173,
   "metadata": {
    "collapsed": false,
    "scrolled": false
   },
   "outputs": [],
   "source": [
    "df.to_csv('董事監名單_clean2.csv', index=False)"
   ]
  }
 ],
 "metadata": {
  "kernelspec": {
   "display_name": "Python 3",
   "language": "python",
   "name": "python3"
  },
  "language_info": {
   "codemirror_mode": {
    "name": "ipython",
    "version": 3
   },
   "file_extension": ".py",
   "mimetype": "text/x-python",
   "name": "python",
   "nbconvert_exporter": "python",
   "pygments_lexer": "ipython3",
   "version": "3.6.3"
  },
  "widgets": {
   "state": {
    "d6e38c058c7e4d87b8a9ebc85915ce50": {
     "views": [
      {
       "cell_index": 17
      }
     ]
    }
   },
   "version": "1.2.0"
  }
 },
 "nbformat": 4,
 "nbformat_minor": 2
}
