{
 "cells": [
  {
   "cell_type": "code",
   "execution_count": 1,
   "metadata": {
    "collapsed": true
   },
   "outputs": [],
   "source": [
    "import py2neo\n",
    "graph = py2neo.Graph(bolt=True, host='localhost', user='neo4j', password='1234')"
   ]
  },
  {
   "cell_type": "code",
   "execution_count": 4,
   "metadata": {
    "collapsed": false
   },
   "outputs": [
    {
     "data": {
      "text/plain": [
       "36359"
      ]
     },
     "execution_count": 4,
     "metadata": {},
     "output_type": "execute_result"
    }
   ],
   "source": [
    "len(graph)"
   ]
  },
  {
   "cell_type": "code",
   "execution_count": 12,
   "metadata": {
    "collapsed": true
   },
   "outputs": [],
   "source": [
    "result = graph.run(\"\"\"\n",
    "MATCH p=(n)-[r:relation_with_company]->(m)\n",
    "where \n",
    "n.Name = '長榮'\n",
    "or\n",
    "m.Name = '長榮'\n",
    "RETURN p\n",
    "\"\"\")"
   ]
  },
  {
   "cell_type": "code",
   "execution_count": 13,
   "metadata": {
    "collapsed": false
   },
   "outputs": [
    {
     "name": "stdout",
     "output_type": "stream",
     "text": [
      "<Record p=(_6975)-[:relation_with_company {}]->(_486)>\n",
      "<Record p=(_6973)-[:relation_with_company {}]->(_486)>\n",
      "<Record p=(_6979)-[:relation_with_company {}]->(_486)>\n",
      "<Record p=(_1711)-[:relation_with_company {}]->(_486)>\n",
      "<Record p=(_486)-[:relation_with_company {}]->(_489)>\n",
      "<Record p=(_486)-[:relation_with_company {}]->(_500)>\n"
     ]
    }
   ],
   "source": [
    "for i in result:\n",
    "    print(i)"
   ]
  },
  {
   "cell_type": "code",
   "execution_count": null,
   "metadata": {
    "collapsed": true
   },
   "outputs": [],
   "source": []
  }
 ],
 "metadata": {
  "kernelspec": {
   "display_name": "Python 3",
   "language": "python",
   "name": "python3"
  },
  "language_info": {
   "codemirror_mode": {
    "name": "ipython",
    "version": 3
   },
   "file_extension": ".py",
   "mimetype": "text/x-python",
   "name": "python",
   "nbconvert_exporter": "python",
   "pygments_lexer": "ipython3",
   "version": "3.6.3"
  }
 },
 "nbformat": 4,
 "nbformat_minor": 2
}
